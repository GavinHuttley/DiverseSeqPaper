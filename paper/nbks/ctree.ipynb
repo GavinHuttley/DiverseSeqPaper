{
 "cells": [
  {
   "cell_type": "code",
   "execution_count": 1,
   "metadata": {},
   "outputs": [],
   "source": [
    "import project_path\n",
    "import cogent3\n",
    "import plotly.express as px\n",
    "\n",
    "color_discrete_sequence = px.colors.sequential.Rainbow\n",
    "\n",
    "FIG_DIMS = dict(width=800, height=600)\n",
    "\n",
    "write_pdf = project_path.pdf_writer()\n",
    "\n",
    "def load_table(fname, header):\n",
    "    from cogent3.util.table import cast_str_to_array\n",
    "    \n",
    "    inpath = project_path.PAPER_DIR / \"nbks\"/ \"ctree\" / \"out\" / fname\n",
    "    lines = [l.split(\"\\t\") for l in inpath.read_text().splitlines()]\n",
    "    data = dict(zip(header, zip(*lines)))\n",
    "    for name, vals in data.items():\n",
    "        data[name] = cast_str_to_array(vals)\n",
    "    return cogent3.make_table(header=header, data=data)\n",
    "\n",
    "def get_plot_for(*, x_axis, limit_to, colour, legend_title, log_x):\n",
    "    table = load_table(\"results_with_ls.tsv\", [\"k\", \"ss\", \"cpus\", \"time\", \"lnL\", \"tree\"])\n",
    "    table = table.get_columns([c for c in table.header if c != \"tree\"])\n",
    "    table = table.filtered(lambda x: int(x) in limit_to, columns=colour)\n",
    "    iqtree = load_table(\"iqtree_with_ls.tsv\", [\"time\", \"lnL\", \"tree\"])\n",
    "    iqtree_lnL = iqtree.columns[\"lnL\"][0]\n",
    "    fig = px.line(table, x=x_axis, y=\"lnL\", color=colour, \n",
    "        labels={\"ss\":\"Sketch Size\", \"k\": \"<i>k</i>\"},\n",
    "        color_discrete_sequence=color_discrete_sequence,\n",
    "        log_x=log_x)\n",
    "\n",
    "    fig.add_hline(y=iqtree_lnL, line_dash=\"dash\", \n",
    "                  line_color=\"black\",\n",
    "                  annotation_text=\"IQ-TREE\",\n",
    "                  annotation_position=\"bottom left\")\n",
    "\n",
    "    fig.update_layout(legend_title_text=legend_title)\n",
    "\n",
    "    diff = 0.005\n",
    "    max_val = (1-diff)*iqtree_lnL\n",
    "    min_val = (1+diff)*table.columns[\"lnL\"].min()\n",
    "    fig.update_yaxes(autorange=False, range=[min_val, max_val])\n",
    "    fig.update_layout(**FIG_DIMS)\n",
    "    return fig\n",
    "\n",
    "\n",
    "def make_likelihood_vs_k():\n",
    "    return get_plot_for(x_axis=\"ss\", colour=\"k\", legend_title='<i>k</i>',\n",
    "                        limit_to=[8, 10, 12, 14, 16], log_x=True)\n",
    "\n",
    "\n",
    "def make_likelihood_vs_ss():\n",
    "    return get_plot_for(x_axis=\"k\", colour=\"ss\", legend_title='<b>Sketch Size</b>',\n",
    "                        limit_to=[100, 1000, 10_000, 25_000, 100000], log_x=False)\n"
   ]
  },
  {
   "cell_type": "code",
   "execution_count": 2,
   "metadata": {},
   "outputs": [],
   "source": [
    "fig = make_likelihood_vs_k()\n",
    "# fig.show()\n",
    "write_pdf(fig, project_path.FIG_DIR / \"likelihood_vs_ss_for_k.pdf\")"
   ]
  },
  {
   "cell_type": "code",
   "execution_count": 3,
   "metadata": {},
   "outputs": [],
   "source": [
    "fig = make_likelihood_vs_ss()\n",
    "# fig.show()\n",
    "write_pdf(fig, project_path.FIG_DIR / \"likelihood_vs_k_for_ss.pdf\")"
   ]
  }
 ],
 "metadata": {
  "kernelspec": {
   "display_name": "dvgt",
   "language": "python",
   "name": "python3"
  },
  "language_info": {
   "codemirror_mode": {
    "name": "ipython",
    "version": 3
   },
   "file_extension": ".py",
   "mimetype": "text/x-python",
   "name": "python",
   "nbconvert_exporter": "python",
   "pygments_lexer": "ipython3",
   "version": "3.12.4"
  }
 },
 "nbformat": 4,
 "nbformat_minor": 2
}
