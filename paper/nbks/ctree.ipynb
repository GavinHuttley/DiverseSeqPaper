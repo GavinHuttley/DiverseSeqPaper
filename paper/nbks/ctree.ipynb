{
 "cells": [
  {
   "cell_type": "code",
   "execution_count": 5,
   "metadata": {},
   "outputs": [],
   "source": [
    "import project_path\n",
    "import cogent3\n",
    "import plotly.express as px\n",
    "\n",
    "color_discrete_sequence = px.colors.sequential.Rainbow\n",
    "\n",
    "FIG_DIMS = dict(width=800, height=600)\n",
    "\n",
    "write_pdf = project_path.pdf_writer()\n",
    "\n",
    "def load_table(fname, header):\n",
    "    from cogent3.util.table import cast_str_to_array\n",
    "    \n",
    "    inpath = project_path.PAPER_DIR / \"nbks\"/ \"ctree\" / \"out\" / fname\n",
    "    lines = [l.split(\"\\t\") for l in inpath.read_text().splitlines()]\n",
    "    data = dict(zip(header, zip(*lines)))\n",
    "    for name, vals in data.items():\n",
    "        data[name] = cast_str_to_array(vals)\n",
    "    return cogent3.make_table(header=header, data=data)\n",
    "\n",
    "def get_plot_for(*, x_axis, limit_to, colour, legend_title, log_x):\n",
    "    table = load_table(\"results_with_ls.tsv\", [\"k\", \"ss\", \"cpus\", \"time\", \"lnL\", \"tree\"])\n",
    "    table = table.get_columns([c for c in table.header if c != \"tree\"])\n",
    "    table = table.filtered(lambda x: int(x) in limit_to, columns=colour)\n",
    "    iqtree = load_table(\"iqtree_with_ls.tsv\", [\"time\", \"lnL\", \"tree\"])\n",
    "    iqtree_lnL = iqtree.columns[\"lnL\"][0]\n",
    "    fig = px.line(table, x=x_axis, y=\"lnL\", color=colour, \n",
    "        labels={\"ss\":\"Sketch Size\", \"k\": \"<i>k</i>\"},\n",
    "        color_discrete_sequence=color_discrete_sequence,\n",
    "        log_x=log_x)\n",
    "\n",
    "    fig.add_hline(y=iqtree_lnL, line_dash=\"dash\", \n",
    "                  line_color=\"black\",\n",
    "                  annotation_text=\"IQ-TREE\",\n",
    "                  annotation_position=\"bottom left\")\n",
    "\n",
    "    fig.update_layout(legend_title_text=legend_title)\n",
    "\n",
    "    diff = 0.005\n",
    "    max_val = (1-diff)*iqtree_lnL\n",
    "    min_val = (1+diff)*table.columns[\"lnL\"].min()\n",
    "    fig.update_yaxes(autorange=False, range=[min_val, max_val])\n",
    "    fig.update_layout(**FIG_DIMS)\n",
    "    return fig\n",
    "\n",
    "\n",
    "def make_likelihood_vs_k():\n",
    "    return get_plot_for(x_axis=\"ss\", colour=\"k\", legend_title='<i>k</i>',\n",
    "                        limit_to=[8, 10, 12, 14, 16], log_x=True)\n",
    "\n",
    "\n",
    "def make_likelihood_vs_ss():\n",
    "    return get_plot_for(x_axis=\"k\", colour=\"ss\", legend_title='<b>Sketch Size</b>',\n",
    "                        limit_to=[100, 1000, 10_000, 25_000, 100000], log_x=False)\n"
   ]
  },
  {
   "cell_type": "code",
   "execution_count": 6,
   "metadata": {},
   "outputs": [
    {
     "data": {
      "text/html": [
       "\n",
       "<div class=\"c3table\">\n",
       "\n",
       "<style>\n",
       ".c3table table {margin: 10px 0;}\n",
       ".c3table tr:last-child {border-bottom: 1px solid #000;} \n",
       ".c3table tr > th {text-align: left; padding: 0 5px;}\n",
       ".c3table tr > td {text-align: left; padding: 5px;}\n",
       ".c3table tr:nth-child(even) {background: #f7f7f7 !important;}\n",
       ".c3table .ellipsis {background: rgba(0, 0, 0, .01);}\n",
       ".c3table .index {background: rgba(161, 195, 209, 0.0); margin: 10px; font-weight: 600;}\n",
       ".c3table .head_cell {background: rgba(161, 195, 209, 0.75); font-weight: bold; text-align: center;}\n",
       ".c3table caption {color: rgb(250, 250, 250); background: rgba(30, 140, 200, 1); padding: 3px; white-space: nowrap; caption-side: top;}\n",
       ".c3table .cell_title {font-weight: bold;}\n",
       ".c3col_left { text-align: left !important; display: block;}\n",
       ".c3col_right { text-align: right !important; display: block;}\n",
       ".c3col_center { text-align: center !important; display: block;}\n",
       "</style>\n",
       "\n",
       "<table>\n",
       "\n",
       "<thead class=\"head_cell\">\n",
       "<th>k</th><th>ss</th><th>cpus</th><th>time</th><th>lnL</th>\n",
       "</thead>\n",
       "<tbody>\n",
       "<tr><td><span class=\"c3col_right\">8</span></td><td><span class=\"c3col_right\">100</span></td><td><span class=\"c3col_right\">8</span></td><td><span class=\"c3col_right\">4.1015</span></td><td><span class=\"c3col_right\">-2704476.5965</span></td></tr>\n",
       "<tr><td><span class=\"c3col_right\">8</span></td><td><span class=\"c3col_right\">250</span></td><td><span class=\"c3col_right\">8</span></td><td><span class=\"c3col_right\">4.0473</span></td><td><span class=\"c3col_right\">-2665748.6830</span></td></tr>\n",
       "<tr><td><span class=\"c3col_right\">8</span></td><td><span class=\"c3col_right\">500</span></td><td><span class=\"c3col_right\">8</span></td><td><span class=\"c3col_right\">4.1712</span></td><td><span class=\"c3col_right\">-2591725.4747</span></td></tr>\n",
       "<tr><td><span class=\"c3col_right\">8</span></td><td><span class=\"c3col_right\">750</span></td><td><span class=\"c3col_right\">8</span></td><td><span class=\"c3col_right\">4.0460</span></td><td><span class=\"c3col_right\">-2611072.1611</span></td></tr>\n",
       "<tr><td><span class=\"c3col_right\">8</span></td><td><span class=\"c3col_right\">1000</span></td><td><span class=\"c3col_right\">8</span></td><td><span class=\"c3col_right\">3.9771</span></td><td><span class=\"c3col_right\">-2593280.6330</span></td></tr>\n",
       "</tbody>\n",
       "</table>\n",
       "<p>Top 5 rows from\n",
       "65 rows x 5 columns</p>\n",
       "</div>"
      ],
      "text/plain": [
       "============================================\n",
       "k      ss    cpus      time              lnL\n",
       "--------------------------------------------\n",
       "8     100       8    4.1015    -2704476.5965\n",
       "8     250       8    4.0473    -2665748.6830\n",
       "8     500       8    4.1712    -2591725.4747\n",
       "8     750       8    4.0460    -2611072.1611\n",
       "8    1000       8    3.9771    -2593280.6330\n",
       "--------------------------------------------\n",
       "Top 5 rows from\n",
       "65 rows x 5 columns"
      ]
     },
     "metadata": {},
     "output_type": "display_data"
    },
    {
     "name": "stdout",
     "output_type": "stream",
     "text": [
      "None\n"
     ]
    }
   ],
   "source": [
    "fig = make_likelihood_vs_k()\n",
    "# fig.show()\n",
    "# write_pdf(fig, project_path.FIG_DIR / \"likelihood_vs_ss_for_k.pdf\")"
   ]
  },
  {
   "cell_type": "code",
   "execution_count": 3,
   "metadata": {},
   "outputs": [],
   "source": [
    "fig = make_likelihood_vs_ss()\n",
    "# fig.show()\n",
    "write_pdf(fig, project_path.FIG_DIR / \"likelihood_vs_k_for_ss.pdf\")"
   ]
  }
 ],
 "metadata": {
  "kernelspec": {
   "display_name": "dvgt",
   "language": "python",
   "name": "python3"
  },
  "language_info": {
   "codemirror_mode": {
    "name": "ipython",
    "version": 3
   },
   "file_extension": ".py",
   "mimetype": "text/x-python",
   "name": "python",
   "nbconvert_exporter": "python",
   "pygments_lexer": "ipython3",
   "version": "3.12.4"
  }
 },
 "nbformat": 4,
 "nbformat_minor": 2
}
