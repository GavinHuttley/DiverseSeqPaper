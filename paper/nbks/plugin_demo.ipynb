{
 "cells": [
  {
   "cell_type": "markdown",
   "metadata": {},
   "source": [
    "We make apps available for use within cogent3. They are obtained by the standard mechanism for getting apps."
   ]
  },
  {
   "cell_type": "code",
   "execution_count": null,
   "metadata": {},
   "outputs": [],
   "source": [
    "from cogent3 import available_apps"
   ]
  },
  {
   "cell_type": "markdown",
   "metadata": {},
   "source": [
    "The available apps can be listed using the `available_apps()` function with the `name_filter` argument set to `\"dvgt\"`."
   ]
  },
  {
   "cell_type": "code",
   "execution_count": null,
   "metadata": {},
   "outputs": [],
   "source": [
    "available_apps(name_filter=\"dvgt\")"
   ]
  },
  {
   "cell_type": "markdown",
   "metadata": {},
   "source": [
    "You can get help using the Cogent 3 `app_help()` system."
   ]
  },
  {
   "cell_type": "code",
   "execution_count": null,
   "metadata": {},
   "outputs": [],
   "source": [
    "from cogent3.app import app_help\n",
    "\n",
    "app_help(\"dvs_select_nmost\")"
   ]
  },
  {
   "cell_type": "markdown",
   "metadata": {},
   "source": [
    "You can copy the vignette from the help display to create your app instance."
   ]
  },
  {
   "cell_type": "code",
   "execution_count": null,
   "metadata": {},
   "outputs": [],
   "source": [
    "from cogent3.app import get_app\n",
    "\n",
    "app = get_app(\n",
    "    \"dvs_select_max\",\n",
    "    min_size=5,\n",
    "    max_size=10,\n",
    "    stat=\"stdev\",\n",
    "    moltype=\"dna\",\n",
    "    k=6,\n",
    "    seed=None,\n",
    ")\n",
    "app"
   ]
  },
  {
   "cell_type": "markdown",
   "metadata": {},
   "source": [
    "We will now load a single alignment from the included sample data and apply the Divergent MAX plug-in to those sequences after removing gaps. (This alignment was chosen because the estimated tree was not completely terrible!)"
   ]
  },
  {
   "cell_type": "code",
   "execution_count": null,
   "metadata": {},
   "outputs": [],
   "source": [
    "from cogent3 import get_app, open_data_store\n",
    "\n",
    "in_data = open_data_store(\"mammals-aligned.zip\", suffix=\"fa\", mode=\"r\")\n",
    "loader = get_app(\"load_aligned\", moltype=\"dna\")\n",
    "aln = loader(in_data[64])"
   ]
  },
  {
   "cell_type": "markdown",
   "metadata": {},
   "source": [
    "> **Note**\n",
    "> Successive calls to the app can return different results as the sequence order is randomised."
   ]
  },
  {
   "cell_type": "code",
   "execution_count": null,
   "metadata": {},
   "outputs": [],
   "source": [
    "selected = app(aln)\n",
    "selected"
   ]
  },
  {
   "cell_type": "markdown",
   "metadata": {},
   "source": [
    "We show how the sampled sequences are dispersed across the phylogeny by first estimating a tree using NJ based on the paralinear distance."
   ]
  },
  {
   "cell_type": "code",
   "execution_count": null,
   "metadata": {},
   "outputs": [],
   "source": [
    "import project_path\n",
    "\n",
    "dnd = (\n",
    "    aln.quick_tree(calc=\"paralinear\")\n",
    "    .rooted_with_tip(\"Platypus\")\n",
    "    .get_figure(width=1400, height=1600)\n",
    ")\n",
    "dnd.tip_font = dict(size=32, family=\"Inconsolata\")\n",
    "dnd.label_pad = 0.003\n",
    "dnd.line_width = 3\n",
    "dnd.scale_bar = None\n",
    "dnd.style_edges(edges=selected.names, line={\"color\": \"red\", \"width\": 3})\n",
    "outpath = project_path.FIG_DIR / \"selected_edges.png\"\n",
    "# dnd.write(outpath)\n",
    "dnd.show()"
   ]
  }
 ],
 "metadata": {
  "kernelspec": {
   "display_name": "dv11",
   "language": "python",
   "name": "python3"
  },
  "language_info": {
   "codemirror_mode": {
    "name": "ipython",
    "version": 3
   },
   "file_extension": ".py",
   "mimetype": "text/x-python",
   "name": "python",
   "nbconvert_exporter": "python",
   "pygments_lexer": "ipython3",
   "version": "3.12.4"
  }
 },
 "nbformat": 4,
 "nbformat_minor": 2
}
